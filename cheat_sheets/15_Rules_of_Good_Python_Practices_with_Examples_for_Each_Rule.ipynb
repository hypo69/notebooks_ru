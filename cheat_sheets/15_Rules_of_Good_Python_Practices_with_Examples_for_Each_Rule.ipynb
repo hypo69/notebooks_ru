{
  "cells": [
    {
      "cell_type": "markdown",
      "metadata": {
        "id": "view-in-github",
        "colab_type": "text"
      },
      "source": [
        "<a href=\"https://colab.research.google.com/github/hypo69/notebooks_ru/blob/master/cheat_sheets/15_Rules_of_Good_Python_Practices_with_Examples_for_Each_Rule.ipynb\" target=\"_parent\"><img src=\"https://colab.research.google.com/assets/colab-badge.svg\" alt=\"Open In Colab\"/></a>"
      ]
    },
    {
      "cell_type": "markdown",
      "source": [
        "# 15 правил хорошего тона в Python (с примерами для каждого правила)\n",
        "\n",
        "\n",
        "**1. Следование PEP 8:** PEP 8 — официальное руководство по стилю кода Python.\n",
        "\n",
        "*   **Плохо:**"
      ],
      "metadata": {
        "id": "V4Iiourz3Ax6"
      }
    },
    {
      "cell_type": "code",
      "source": [
        "def some_function(a,b):\n",
        "        if(a> b):return a;\n",
        "        else:\n",
        "            return b"
      ],
      "outputs": [],
      "execution_count": null,
      "metadata": {
        "id": "hl9YYaOz3Ax9"
      }
    },
    {
      "cell_type": "markdown",
      "source": [
        "*   **Хорошо:**"
      ],
      "metadata": {
        "id": "76AlBO3B3Ax-"
      }
    },
    {
      "cell_type": "code",
      "source": [
        "def some_function(a, b):\n",
        "        return max(a, b)  # Использование встроенной функции\n",
        "\n",
        "    # Или:\n",
        "    def some_function(a, b):\n",
        "        if a > b:\n",
        "            return a\n",
        "        return b"
      ],
      "outputs": [],
      "execution_count": null,
      "metadata": {
        "id": "N7V7d1OV3Ax-"
      }
    },
    {
      "cell_type": "markdown",
      "source": [
        "**2. Чистые и понятные функции:** Функции должны выполнять одну конкретную задачу.\n",
        "\n",
        "*   **Плохо:**"
      ],
      "metadata": {
        "id": "CSChXQPh3Ax-"
      }
    },
    {
      "cell_type": "code",
      "source": [
        "def process_data(data):\n",
        "        for i in range(len(data)):\n",
        "            if data[i] > 10:\n",
        "                with open(\"output.txt\", \"w\") as f:\n",
        "                    f.write(str(data[i]) + \"\\n\")"
      ],
      "outputs": [],
      "execution_count": null,
      "metadata": {
        "id": "IS9KQBF43Ax_"
      }
    },
    {
      "cell_type": "markdown",
      "source": [
        "*   **Хорошо:**"
      ],
      "metadata": {
        "id": "UAImUuYs3Ax_"
      }
    },
    {
      "cell_type": "code",
      "source": [
        "def filter_large_values(data):\n",
        "        return [x for x in data if x > 10]\n",
        "\n",
        "    def write_data_to_file(data, filename=\"output.txt\"):\n",
        "        with open(filename, \"w\") as f:\n",
        "            f.writelines(str(item) + \"\\n\" for item in data)  # Более эффективно\n",
        "\n",
        "    def process_data(data):\n",
        "        large_values = filter_large_values(data)\n",
        "        write_data_to_file(large_values)"
      ],
      "outputs": [],
      "execution_count": null,
      "metadata": {
        "id": "lEyomX963Ax_"
      }
    },
    {
      "cell_type": "markdown",
      "source": [
        "**3. Осмысленные имена переменных и функций:** Имена должны отражать назначение.\n",
        "\n",
        "*   **Плохо:**"
      ],
      "metadata": {
        "id": "Nb1PvZrb3AyA"
      }
    },
    {
      "cell_type": "code",
      "source": [
        "x = 10\n",
        "    y = \"John\"\n",
        "    f = lambda a, b: a + b"
      ],
      "outputs": [],
      "execution_count": null,
      "metadata": {
        "id": "vKm-Xeyb3AyA"
      }
    },
    {
      "cell_type": "markdown",
      "source": [
        "*   **Хорошо:**"
      ],
      "metadata": {
        "id": "6F_gGaG03AyB"
      }
    },
    {
      "cell_type": "code",
      "source": [
        "user_age = 10\n",
        "    user_name = \"John\"\n",
        "    add_numbers = lambda a, b: a + b"
      ],
      "outputs": [],
      "execution_count": null,
      "metadata": {
        "id": "wf9D1yND3AyB"
      }
    },
    {
      "cell_type": "markdown",
      "source": [
        "**4. Обработка исключений:** Используйте `try-except` для предотвращения ошибок.\n",
        "\n",
        "*   **Плохо:**"
      ],
      "metadata": {
        "id": "oRJs_8TE3AyB"
      }
    },
    {
      "cell_type": "code",
      "source": [
        "def divide(a, b):\n",
        "        return a / b\n",
        "\n",
        "    result = divide(10, 0)  # ZeroDivisionError"
      ],
      "outputs": [],
      "execution_count": null,
      "metadata": {
        "id": "MBNrgob43AyB"
      }
    },
    {
      "cell_type": "markdown",
      "source": [
        "*   **Хорошо:**"
      ],
      "metadata": {
        "id": "DZIlyPHB3AyB"
      }
    },
    {
      "cell_type": "code",
      "source": [
        "def divide(a, b):\n",
        "        try:\n",
        "            return a / b\n",
        "        except ZeroDivisionError:\n",
        "            print(\"Error: Division by zero!\")\n",
        "            return None\n",
        "\n",
        "    result = divide(10, 0)\n",
        "    if result is not None:\n",
        "        print(result)"
      ],
      "outputs": [],
      "execution_count": null,
      "metadata": {
        "id": "DSiiJd0g3AyC"
      }
    },
    {
      "cell_type": "markdown",
      "source": [
        "**5. Тестирование кода:** Написание тестов — важная часть разработки.\n",
        "\n",
        "*   **Плохо:** Отсутствие тестов.\n",
        "\n",
        "*   **Хорошо:**"
      ],
      "metadata": {
        "id": "H_l83BAs3AyC"
      }
    },
    {
      "cell_type": "code",
      "source": [
        "import unittest\n",
        "\n",
        "    def add(a, b):\n",
        "        return a + b\n",
        "\n",
        "    class TestAdd(unittest.TestCase):\n",
        "        def test_add_positive_numbers(self):\n",
        "            self.assertEqual(add(2, 3), 5)\n",
        "\n",
        "        def test_add_negative_numbers(self):\n",
        "            self.assertEqual(add(-2, -3), -5)\n",
        "\n",
        "    if __name__ == '__main__':\n",
        "        unittest.main()"
      ],
      "outputs": [],
      "execution_count": null,
      "metadata": {
        "id": "kErIme3d3AyC"
      }
    },
    {
      "cell_type": "markdown",
      "source": [
        "**6. Аннотации типов:** Аннотации делают код более читаемым.\n",
        "\n",
        "*   **Плохо:**"
      ],
      "metadata": {
        "id": "jATof9ub3AyC"
      }
    },
    {
      "cell_type": "code",
      "source": [
        "def greet(name):\n",
        "        return \"Hello, \" + name"
      ],
      "outputs": [],
      "execution_count": null,
      "metadata": {
        "id": "n6dMC-V03AyC"
      }
    },
    {
      "cell_type": "markdown",
      "source": [
        "*   **Хорошо:**"
      ],
      "metadata": {
        "id": "MQpbOvQe3AyD"
      }
    },
    {
      "cell_type": "code",
      "source": [
        "def greet(name: str) -> str:\n",
        "        return f\"Hello, {name}\""
      ],
      "outputs": [],
      "execution_count": null,
      "metadata": {
        "id": "-stv7T8U3AyD"
      }
    },
    {
      "cell_type": "markdown",
      "source": [
        "**7. Комментарии в коде:** Используйте docstrings и комментарии для пояснений.\n",
        "\n",
        "*   **Плохо:**"
      ],
      "metadata": {
        "id": "o6JfsXdg3AyE"
      }
    },
    {
      "cell_type": "code",
      "source": [
        "def calc(l, w):\n",
        "        return l * w"
      ],
      "outputs": [],
      "execution_count": null,
      "metadata": {
        "id": "_D7n50Zl3AyE"
      }
    },
    {
      "cell_type": "markdown",
      "source": [
        "*   **Хорошо:**"
      ],
      "metadata": {
        "id": "DVuzl4nr3AyE"
      }
    },
    {
      "cell_type": "code",
      "source": [
        "def calculate_area(length: float, width: float) -> float:\n",
        "        \"\"\"Вычисляет площадь прямоугольника.\n",
        "\n",
        "        Args:\n",
        "            length: Длина прямоугольника.\n",
        "            width: Ширина прямоугольника.\n",
        "\n",
        "        Returns:\n",
        "            Площадь прямоугольника.\n",
        "        \"\"\"\n",
        "        return length * width"
      ],
      "outputs": [],
      "execution_count": null,
      "metadata": {
        "id": "JI02YemV3AyE"
      }
    },
    {
      "cell_type": "markdown",
      "source": [
        "**8. Принцип DRY (Don't Repeat Yourself):** Избегайте дублирования.\n",
        "\n",
        "*   **Плохо:**"
      ],
      "metadata": {
        "id": "9RpqUZwM3AyE"
      }
    },
    {
      "cell_type": "code",
      "source": [
        "def calculate_square_perimeter(side):\n",
        "        return 4 * side\n",
        "\n",
        "    def calculate_rectangle_perimeter(length, width):\n",
        "        return 2 * length + 2 * width"
      ],
      "outputs": [],
      "execution_count": null,
      "metadata": {
        "id": "u2Ct7y-I3AyF"
      }
    },
    {
      "cell_type": "markdown",
      "source": [
        "*   **Хорошо:**"
      ],
      "metadata": {
        "id": "dufWJ7JA3AyF"
      }
    },
    {
      "cell_type": "code",
      "source": [
        "def calculate_perimeter(sides):\n",
        "        return sum(sides)\n",
        "\n",
        "    def calculate_square_perimeter(side):\n",
        "        return calculate_perimeter([side] * 4)\n",
        "\n",
        "    def calculate_rectangle_perimeter(length, width):\n",
        "        return calculate_perimeter([length, width] * 2)"
      ],
      "outputs": [],
      "execution_count": null,
      "metadata": {
        "id": "-xbeghRE3AyF"
      }
    },
    {
      "cell_type": "markdown",
      "source": [
        "**9. Принцип KISS (Keep It Simple, Stupid):** Пишите простой и понятный код.\n",
        "\n",
        "*   **Плохо:**"
      ],
      "metadata": {
        "id": "xX2Ruigf3AyF"
      }
    },
    {
      "cell_type": "code",
      "source": [
        "result = [i for i in range(10) if i % 2 == 0]"
      ],
      "outputs": [],
      "execution_count": null,
      "metadata": {
        "id": "cpAagjp13AyF"
      }
    },
    {
      "cell_type": "markdown",
      "source": [
        "*   **Хорошо:**"
      ],
      "metadata": {
        "id": "JN6vG8Xx3AyG"
      }
    },
    {
      "cell_type": "code",
      "source": [
        "result = list(range(0, 10, 2))\n",
        "    # Или:\n",
        "    result = [i for i in range(10) if not i % 2]"
      ],
      "outputs": [],
      "execution_count": null,
      "metadata": {
        "id": "qH6kC6kK3AyG"
      }
    },
    {
      "cell_type": "markdown",
      "source": [
        "**10. YAGNI (You Ain't Gonna Need It):** Не добавляйте ненужную функциональность.\n",
        "\n",
        "*   **Плохо:** Добавление сложной системы кеширования, которая пока не нужна.\n"
      ],
      "metadata": {
        "id": "YSdHCf5k3gKY"
      }
    },
    {
      "cell_type": "code",
      "source": [
        "import json\n",
        "import os\n",
        "\n",
        "class User:\n",
        "    def __init__(self, name, age):\n",
        "        self.name = name\n",
        "        self.age = age\n",
        "        self.preferences = {}  # Возможно, понадобятся настройки пользователя\n",
        "        self.last_login = None # Возможно понадобится время последнего входа\n",
        "\n",
        "    def to_json(self):\n",
        "        return json.dumps(self.__dict__)\n",
        "\n",
        "    def save_to_file(self, filename=\"users.json\"):\n",
        "      try:\n",
        "          if os.path.exists(filename):\n",
        "              with open(filename, \"r+\") as f:\n",
        "                  try:\n",
        "                      data = json.load(f)\n",
        "                  except json.JSONDecodeError:\n",
        "                      data = []\n",
        "                  data.append(self.__dict__)\n",
        "                  f.seek(0)\n",
        "                  json.dump(data, f, indent=4)\n",
        "          else:\n",
        "              with open(filename, \"w\") as f:\n",
        "                  json.dump([self.__dict__], f, indent=4)\n",
        "      except Exception as e:\n",
        "          print(f\"Error saving user: {e}\")\n",
        "\n",
        "user = User(\"Alice\", 30)\n",
        "user.save_to_file()"
      ],
      "metadata": {
        "id": "6mSLc8z74CDa"
      },
      "execution_count": null,
      "outputs": []
    },
    {
      "cell_type": "markdown",
      "source": [
        "*   **Хорошо:** Реализация простой версии без кеширования и добавление кеширования только при необходимости."
      ],
      "metadata": {
        "id": "yepq9-m64Ism"
      }
    },
    {
      "cell_type": "code",
      "source": [
        "class User:\n",
        "    def __init__(self, name, age):\n",
        "        self.name = name\n",
        "        self.age = age\n",
        "\n",
        "user = User(\"Alice\", 30)\n",
        "print(user.name, user.age)"
      ],
      "metadata": {
        "colab": {
          "base_uri": "https://localhost:8080/"
        },
        "id": "VV-LBYmV4KbZ",
        "outputId": "83de7a8d-bcd1-4261-fb2e-92d79d67a514"
      },
      "execution_count": null,
      "outputs": [
        {
          "output_type": "stream",
          "name": "stdout",
          "text": [
            "Alice 30\n"
          ]
        }
      ]
    },
    {
      "cell_type": "markdown",
      "source": [
        "\n",
        "\n",
        "**11. Принцип SOLID (частично применимо):**\n",
        "\n",
        "*   **SRP (Single Responsibility Principle):**\n",
        "\n",
        "    *   **Плохо:** Класс `User` отвечает и за данные, и за отправку email.\n",
        "\n",
        "    *   **Хорошо:** Отдельные классы `User` и `EmailNotifier`. (Пример дан ниже)\n",
        "\n",
        "*   **OCP (Open/Closed Principle):**\n",
        "\n",
        "    *   **Плохо:** Изменение класса при добавлении новой логики.\n",
        "\n",
        "    *   **Хорошо:** Использование абстракций (как в примере ниже)."
      ],
      "metadata": {
        "id": "fQbehvQT3AyG"
      }
    },
    {
      "cell_type": "code",
      "source": [
        "from abc import ABC, abstractmethod\n",
        "\n",
        "    class DiscountStrategy(ABC):\n",
        "        @abstractmethod\n",
        "        def calculate_discount(self, order):\n",
        "            pass\n",
        "\n",
        "    class RegularDiscount(DiscountStrategy):\n",
        "        def calculate_discount(self, order):\n",
        "            return 0\n",
        "\n",
        "    class PremiumDiscount(DiscountStrategy):\n",
        "        def calculate_discount(self, order):\n",
        "            return order['total'] * 0.1\n",
        "\n",
        "    def calculate_order_discount(order, strategy: DiscountStrategy):\n",
        "        return strategy.calculate_discount(order)"
      ],
      "outputs": [],
      "execution_count": null,
      "metadata": {
        "id": "UdVGqfKQ3AyG"
      }
    },
    {
      "cell_type": "markdown",
      "source": [
        "**12. Избегайте глобальных переменных:**\n",
        "\n",
        "*   **Плохо:**"
      ],
      "metadata": {
        "id": "_R6T33p73AyH"
      }
    },
    {
      "cell_type": "code",
      "source": [
        "counter = 0\n",
        "\n",
        "    def increment():\n",
        "        global counter\n",
        "        counter += 1"
      ],
      "outputs": [],
      "execution_count": null,
      "metadata": {
        "id": "8i0NtaEq3AyH"
      }
    },
    {
      "cell_type": "markdown",
      "source": [
        "*   **Хорошо:**"
      ],
      "metadata": {
        "id": "UNOBzQG-3AyH"
      }
    },
    {
      "cell_type": "code",
      "source": [
        "def increment(counter):\n",
        "        return counter + 1\n",
        "\n",
        "    my_counter = 0\n",
        "    my_counter = increment(my_counter)"
      ],
      "outputs": [],
      "execution_count": null,
      "metadata": {
        "id": "EOAG3jf_3AyI"
      }
    },
    {
      "cell_type": "markdown",
      "source": [
        "**13. Использование виртуальных окружений:** Изолируйте зависимости проекта.\n",
        "\n",
        "*   **Плохо:** Установка пакетов в системный Python.\n",
        "\n",
        "*   **Хорошо:**\n",
        "\n",
        "    ```bash\n",
        "    python3 -m venv .venv\n",
        "    source .venv/bin/activate\n",
        "    pip install -r requirements.txt\n",
        "    ```\n",
        "\n",
        "**14. Явное управление зависимостями (requirements.txt):**\n",
        "\n",
        "*   **Плохо:** Отсутствие `requirements.txt`.\n",
        "\n",
        "*   **Хорошо:**\n",
        "\n",
        "    ```bash\n",
        "    pip freeze > requirements.txt\n",
        "    pip install -r requirements.txt\n",
        "    ```\n",
        "\n",
        "**15. Использование линтеров и статических анализаторов:** Автоматическая проверка кода.\n",
        "\n",
        "*   **Плохо:** Отсутствие проверок.\n",
        "\n",
        "*   **Хорошо:** Использование `flake8`, `pylint`, `mypy`.\n",
        "\n",
        "Теперь для каждого из 15 правил есть примеры \"плохого"
      ],
      "metadata": {
        "id": "mE6ucDqX3AyJ"
      }
    },
    {
      "cell_type": "markdown",
      "source": [
        "<div class=\"md-recitation\">\n",
        "  Sources\n",
        "  <ol>\n",
        "  <li><a href=\"https://github.com/adarshj735/assignment\">https://github.com/adarshj735/assignment</a></li>\n",
        "  <li><a href=\"https://github.com/Kabila-datasirpi/python\">https://github.com/Kabila-datasirpi/python</a></li>\n",
        "  <li><a href=\"https://wenku.csdn.net/column/5n4yti5km5\">https://wenku.csdn.net/column/5n4yti5km5</a></li>\n",
        "  <li><a href=\"https://kedu.ru/press-center/articles/info-python-opredelenie-tipy-sintaksis-vyzov-funktsii-/\">https://kedu.ru/press-center/articles/info-python-opredelenie-tipy-sintaksis-vyzov-funktsii-/</a></li>\n",
        "  </ol>\n",
        "</div>"
      ],
      "metadata": {
        "id": "_eNmq5Fr3AyJ"
      }
    }
  ],
  "metadata": {
    "colab": {
      "provenance": [],
      "include_colab_link": true
    },
    "kernelspec": {
      "display_name": "Python 3",
      "name": "python3"
    }
  },
  "nbformat": 4,
  "nbformat_minor": 0
}