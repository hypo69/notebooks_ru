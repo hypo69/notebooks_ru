{
  "cells": [
    {
      "cell_type": "markdown",
      "metadata": {
        "id": "view-in-github",
        "colab_type": "text"
      },
      "source": [
        "<a href=\"https://colab.research.google.com/github/hypo69/notebooks_ru/blob/master/cheat_sheets/from__future__import_annotations.ipynb\" target=\"_parent\"><img src=\"https://colab.research.google.com/assets/colab-badge.svg\" alt=\"Open In Colab\"/></a>"
      ]
    },
    {
      "cell_type": "markdown",
      "source": [
        "`from __future__ import annotations` - это директива в Python, которая влияет на то, как обрабатываются аннотации типов. Она была введена в Python 3.7 и должна была стать поведением по умолчанию в Python 3.10 (хотя это было отложено, и теперь планируется в Python 4.0).\n",
        "\n",
        "**Проблема, которую решает эта директива:**\n",
        "\n",
        "В Python, начиная с версии 3.0, появилась возможность добавлять аннотации типов к переменным, аргументам функций и возвращаемым значениям. Это полезно для статического анализа кода (например, с помощью MyPy) и улучшения читаемости. Однако, до введения `from __future__ import annotations`, интерпретатор Python пытался вычислить аннотации типов во время выполнения кода. Это могло приводить к проблемам, особенно в случаях циклических зависимостей между классами, когда один класс ссылается на другой в аннотации типа.\n",
        "\n",
        "**Как работает `from __future__ import annotations`:**\n",
        "\n",
        "Эта директива изменяет способ обработки аннотаций типов. Вместо немедленного вычисления, аннотации сохраняются как строки. Это означает, что интерпретатор не пытается найти и загрузить классы или другие объекты, упомянутые в аннотациях, до тех пор, пока они действительно не понадобятся.\n",
        "\n",
        "**Преимущества использования `from __future__ import annotations`:**\n",
        "\n",
        "*   **Решение проблем с циклическими импортами:** Как уже упоминалось, эта директива позволяет избежать ошибок, связанных с циклическими зависимостями между классами.\n",
        "*   **Улучшение производительности:** Отложенное вычисление аннотаций может немного ускорить запуск программы, особенно если аннотаций много.\n",
        "*   **Более гибкий синтаксис:** Позволяет использовать более сложные выражения в аннотациях, которые раньше могли вызывать ошибки.\n",
        "\n",
        "**Пример:**\n",
        "\n",
        "Без `from __future__ import annotations`:"
      ],
      "metadata": {
        "id": "mohqydjxY4Vd"
      }
    },
    {
      "cell_type": "code",
      "source": [
        "class A:\n",
        "    def __init__(self, b: B):\n",
        "        self.b = b\n",
        "\n",
        "class B:\n",
        "    def __init__(self, a: A):\n",
        "        self.a = a"
      ],
      "outputs": [],
      "execution_count": null,
      "metadata": {
        "id": "QVLkXp5vY4Vg"
      }
    },
    {
      "cell_type": "markdown",
      "source": [
        "Этот код вызовет ошибку `NameError: name 'B' is not defined`, потому что при определении класса `A` интерпретатор пытается вычислить аннотацию `b: B`, но класс `B` еще не определен.\n",
        "\n",
        "С `from __future__ import annotations`:"
      ],
      "metadata": {
        "id": "FPzCA4glY4Vh"
      }
    },
    {
      "cell_type": "code",
      "source": [
        "from __future__ import annotations\n",
        "\n",
        "class A:\n",
        "    def __init__(self, b: B):\n",
        "        self.b = b\n",
        "\n",
        "class B:\n",
        "    def __init__(self, a: A):\n",
        "        self.a = a"
      ],
      "outputs": [],
      "execution_count": null,
      "metadata": {
        "id": "ZELpsh5BY4Vi"
      }
    },
    {
      "cell_type": "markdown",
      "source": [
        "Этот код будет работать без ошибок, потому что аннотации `b: B` и `a: A` будут сохранены как строки и вычислены позже, когда классы `A` и `B` уже будут определены.\n",
        "\n",
        "**В заключение:**\n",
        "\n",
        "Использование `from __future__ import annotations` стало общепринятой практикой при работе с аннотациями типов в Python. Оно решает ряд проблем и делает код более надежным и гибким. Рекомендуется использовать эту директиву во всех новых проектах, использующих аннотации типов."
      ],
      "metadata": {
        "id": "nJDbwTIgY4Vj"
      }
    }
  ],
  "metadata": {
    "colab": {
      "provenance": [],
      "include_colab_link": true
    },
    "kernelspec": {
      "display_name": "Python 3",
      "name": "python3"
    }
  },
  "nbformat": 4,
  "nbformat_minor": 0
}