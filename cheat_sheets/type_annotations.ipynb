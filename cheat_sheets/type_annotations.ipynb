{
  "cells": [
    {
      "cell_type": "markdown",
      "metadata": {
        "id": "view-in-github",
        "colab_type": "text"
      },
      "source": [
        "<a href=\"https://colab.research.google.com/github/hypo69/notebooks_ru/blob/master/cheat_sheets/type_annotations.ipynb\" target=\"_parent\"><img src=\"https://colab.research.google.com/assets/colab-badge.svg\" alt=\"Open In Colab\"/></a>"
      ]
    },
    {
      "cell_type": "markdown",
      "source": [
        "Аннотация типов в Python (type hinting) — это способ указать тип переменной, аргумента функции или возвращаемого значения. Она была введена в Python 3.5 и не является обязательной, но предоставляет ряд преимуществ для разработчиков.\n",
        "\n",
        "**Зачем нужна аннотация типов?**\n",
        "\n",
        "1.  **Улучшение читаемости кода:** Аннотации типов делают код более понятным, особенно для больших проектов и при работе в команде. Они позволяют сразу увидеть, какого типа данные ожидаются в том или ином месте программы."
      ],
      "metadata": {
        "id": "f-lcDAj4xRRQ"
      }
    },
    {
      "cell_type": "code",
      "source": [
        "def greet(name: str) -> str:\n",
        "        return \"Hello, \" + name\n",
        "\n",
        "    greet(\"Alice\") # Понятно, что функция принимает строку и возвращает строку"
      ],
      "outputs": [],
      "execution_count": null,
      "metadata": {
        "id": "-LU7yU9AxRRS"
      }
    },
    {
      "cell_type": "markdown",
      "source": [
        "2.  **Обнаружение ошибок на ранних стадиях:** Статические анализаторы кода (например, MyPy) могут использовать аннотации типов для выявления потенциальных ошибок типизации *до* запуска программы. Это помогает предотвратить runtime errors (ошибки времени выполнения), связанные с неправильным использованием типов данных."
      ],
      "metadata": {
        "id": "KF_XnkUZxRRT"
      }
    },
    {
      "cell_type": "code",
      "source": [
        "def add(a: int, b: int) -> int:\n",
        "        return a + b\n",
        "\n",
        "    add(5, \"10\") # MyPy укажет на ошибку: ожидается int, передана str"
      ],
      "outputs": [],
      "execution_count": null,
      "metadata": {
        "id": "LA7ObNi0xRRU"
      }
    },
    {
      "cell_type": "markdown",
      "source": [
        "3.  **Улучшение работы IDE:** Интегрированные среды разработки (IDE) используют аннотации типов для предоставления более точных подсказок, автодополнения и навигации по коду. Это повышает продуктивность разработки.\n",
        "\n",
        "4.  **Документация:** Аннотации типов служат своего рода документацией, описывая ожидаемые типы данных.\n",
        "\n",
        "**Важные моменты об аннотации типов в Python:**\n",
        "\n",
        "*   **Python — язык с динамической типизацией:** Аннотации типов не заставляют Python стать языком со статической типизацией. Интерпретатор Python *не проверяет* типы во время выполнения. Аннотации используются в основном для статического анализа и улучшения читаемости.\n",
        "*   **Синтаксис:**\n",
        "    *   `variable: type` — аннотация переменной.\n",
        "    *   `def function(argument: type) -> return_type:` — аннотация функции (аргументов и возвращаемого значения).\n",
        "*   **Модуль `typing`:** Для более сложных случаев (например, списки, словари, кортежи, Optional) используется модуль `typing`."
      ],
      "metadata": {
        "id": "Ue-PeOR8xRRU"
      }
    },
    {
      "cell_type": "code",
      "source": [
        "from typing import List, Dict, Tuple, Optional\n",
        "\n",
        "    def process_data(data: List[int]) -> Dict[str, Tuple[int, int]]:\n",
        "        result: Dict[str, Tuple[int, int]] = {}\n",
        "        # ... обработка данных ...\n",
        "        return result\n",
        "\n",
        "    def get_name(user_id: int) -> Optional[str]:\n",
        "        # Функция может вернуть строку или None\n",
        "        # ...\n",
        "        return None"
      ],
      "outputs": [],
      "execution_count": null,
      "metadata": {
        "id": "gMtOKOfhxRRU"
      }
    },
    {
      "cell_type": "markdown",
      "source": [
        "**Примеры использования аннотаций типов:**"
      ],
      "metadata": {
        "id": "DlMNdxSWxRRV"
      }
    },
    {
      "cell_type": "code",
      "source": [
        "# Базовые типы\n",
        "name: str = \"John Doe\"\n",
        "age: int = 30\n",
        "height: float = 1.85\n",
        "is_active: bool = True\n",
        "\n",
        "# Функции\n",
        "def multiply(a: float, b: float) -> float:\n",
        "    return a * b\n",
        "\n",
        "def greet(name: str, greeting: str = \"Hello\") -> str: # Значение по умолчанию\n",
        "    return f\"{greeting}, {name}!\"\n",
        "\n",
        "# Списки\n",
        "names: List[str] = [\"Alice\", \"Bob\", \"Charlie\"]\n",
        "numbers: List[int] = [1, 2, 3, 4, 5]\n",
        "\n",
        "# Словари\n",
        "user_data: Dict[str, str] = {\"name\": \"Alice\", \"city\": \"New York\"}\n",
        "\n",
        "# Кортежи\n",
        "point: Tuple[int, int] = (10, 20)\n",
        "\n",
        "# Optional (может быть None)\n",
        "from typing import Optional\n",
        "\n",
        "def find_user(user_id: int) -> Optional[Dict[str, str]]:\n",
        "    # ... поиск пользователя ...\n",
        "    return None # или словарь с данными пользователя"
      ],
      "outputs": [],
      "execution_count": null,
      "metadata": {
        "id": "PwavMpNTxRRV"
      }
    },
    {
      "cell_type": "markdown",
      "source": [
        "В заключение, аннотация типов — это мощный инструмент, который помогает писать более понятный, надежный и поддерживаемый код на Python. Хотя их использование не является обязательным, оно настоятельно рекомендуется, особенно для больших проектов и командной разработки."
      ],
      "metadata": {
        "id": "tuNSZc06xRRV"
      }
    }
  ],
  "metadata": {
    "colab": {
      "provenance": [],
      "include_colab_link": true
    },
    "kernelspec": {
      "display_name": "Python 3",
      "name": "python3"
    }
  },
  "nbformat": 4,
  "nbformat_minor": 0
}